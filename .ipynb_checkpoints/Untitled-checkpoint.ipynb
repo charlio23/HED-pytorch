{
 "cells": [
  {
   "cell_type": "code",
   "execution_count": 1,
   "metadata": {},
   "outputs": [],
   "source": [
    "from torch.utils.data import Dataset\n",
    "import torchvision.transforms as transforms\n",
    "from scipy.io import loadmat"
   ]
  },
  {
   "cell_type": "code",
   "execution_count": 2,
   "metadata": {},
   "outputs": [],
   "source": [
    "class TrainDataset(Dataset):\n",
    "    def __init__(self, rootDirImg, rootDirGt):\n",
    "        self.rootDirImg = rootDirImg\n",
    "        self.rootDirGt = rootDirGt\n",
    "        self.listData = [sorted(os.listdir(rootDirImg)),sorted(os.listdir(rootDirGt))]\n",
    "        \n",
    "\n",
    "    def __len__(self):\n",
    "        return len(self.listData[1])\n",
    "                \n",
    "    def __getitem__(self, i):\n",
    "        # input and target images\n",
    "        inputName = self.listData[0][i]\n",
    "        targetName = self.listData[1][i]\n",
    "        # process the images\n",
    "        transf = transforms.ToTensor()\n",
    "        inputImage = transf(Image.open(self.rootDirImg + inputName).convert('RGB'))\n",
    "        targetImage = loadmat(self.rootDirGt + targetName)\n",
    "        print(targetImage)\n",
    "        return inputImage, targetImage['edge'], targetImage['symmetry']\n"
   ]
  }
 ],
 "metadata": {
  "kernelspec": {
   "display_name": "Python 3",
   "language": "python",
   "name": "python3"
  },
  "language_info": {
   "codemirror_mode": {
    "name": "ipython",
    "version": 3
   },
   "file_extension": ".py",
   "mimetype": "text/x-python",
   "name": "python",
   "nbconvert_exporter": "python",
   "pygments_lexer": "ipython3",
   "version": "3.6.7"
  }
 },
 "nbformat": 4,
 "nbformat_minor": 2
}
